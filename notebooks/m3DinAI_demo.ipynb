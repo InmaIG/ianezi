{
  "cells": [
    {
      "cell_type": "markdown",
      "metadata": {},
      "source": [
        "# m3DinAI — Demo Notebook (Synthetic Data)\n",
        "\n",
        "This demo shows the **end-to-end idea** of the m3DinAI pipeline using **synthetic data**.\n",
        "\n",
        "**What you will see:**\n",
        "- Create a small toy dataset that mimics extracted features + treatments.\n",
        "- Standardize features and compute a UMAP embedding.\n",
        "- Visualize the embedding with matplotlib.\n",
        "- Run a simple Welch's t-test vs DMSO on a toy feature.\n",
        "\n",
        "> For real experiments, run the Python scripts in `src/` on your imaging data and adjust paths as described in the README.\n"
      ]
    },
    {
      "cell_type": "code",
      "execution_count": null,
      "metadata": {},
      "outputs": [],
      "source": [
        "# Imports\n",
        "import os\n",
        "import numpy as np\n",
        "import pandas as pd\n",
        "import matplotlib.pyplot as plt\n",
        "from sklearn.preprocessing import StandardScaler\n",
        "from scipy.stats import ttest_ind\n",
        "import umap\n",
        "\n",
        "print(\"Libraries loaded.\")"
      ]
    },
    {
      "cell_type": "markdown",
      "metadata": {},
      "source": [
        "## 1) Create a synthetic feature table\n",
        "We simulate a small dataset with a few features and treatment labels and save it as an Excel file to mimic the pipeline outputs."
      ]
    },
    {
      "cell_type": "code",
      "execution_count": null,
      "metadata": {},
      "outputs": [],
      "source": [
        "np.random.seed(42)\n",
        "n = 180\n",
        "treatments = np.random.choice([\"DMSO\", \"Anthracyclines\", \"Taxane\"], size=n, p=[0.34, 0.33, 0.33])\n",
        "\n",
        "# Simulate three simple features with slight treatment effects\n",
        "base = np.random.normal(0, 1, (n, 3))\n",
        "shift = np.zeros((n, 3))\n",
        "shift[treatments == \"Anthracyclines\", 0] += 0.6\n",
        "shift[treatments == \"Taxane\", 1]       += 0.6\n",
        "shift[treatments == \"DMSO\", 2]         += 0.2\n",
        "X = base + shift\n",
        "\n",
        "df = pd.DataFrame(\n",
        "    X, columns=[\"Area\", \"Perimeter\", \"Circularity\"]\n",
        ")\n",
        "df[\"Treatment\"] = treatments\n",
        "\n",
        "# Create results folder and save example file\n",
        "os.makedirs(\"results/demo\", exist_ok=True)\n",
        "df.to_excel(\"results/demo/demo_spheroid_features_trat.xlsx\", index=False)\n",
        "df.head()"
      ]
    },
    {
      "cell_type": "markdown",
      "metadata": {},
      "source": [
        "## 2) UMAP embedding on standardized features\n",
        "We standardize numerical columns and compute a 2D UMAP embedding for quick visualization."
      ]
    },
    {
      "cell_type": "code",
      "execution_count": null,
      "metadata": {},
      "outputs": [],
      "source": [
        "num_cols = [\"Area\", \"Perimeter\", \"Circularity\"]\n",
        "X_scaled = StandardScaler().fit_transform(df[num_cols])\n",
        "\n",
        "reducer = umap.UMAP(n_neighbors=15, min_dist=0.1, random_state=42)\n",
        "emb = reducer.fit_transform(X_scaled)\n",
        "emb[:3]"
      ]
    },
    {
      "cell_type": "markdown",
      "metadata": {},
      "source": [
        "## 3) Plot UMAP (matplotlib)\n",
        "We color by treatment codes (no custom colors used)."
      ]
    },
    {
      "cell_type": "code",
      "execution_count": null,
      "metadata": {},
      "outputs": [],
      "source": [
        "codes = pd.Categorical(df[\"Treatment\"]).codes\n",
        "plt.figure(figsize=(6, 5))\n",
        "plt.scatter(emb[:, 0], emb[:, 1], c=codes, s=25)\n",
        "plt.xlabel(\"UMAP 1\")\n",
        "plt.ylabel(\"UMAP 2\")\n",
        "plt.title(\"UMAP demo (synthetic data)\")\n",
        "plt.grid(True)\n",
        "plt.show()"
      ]
    },
    {
      "cell_type": "markdown",
      "metadata": {},
      "source": [
        "## 4) Simple Welch's t-test vs DMSO\n",
        "We compare one toy feature (e.g., `Area`) between each treatment and DMSO using Welch's t-test."
      ]
    },
    {
      "cell_type": "code",
      "execution_count": null,
      "metadata": {},
      "outputs": [],
      "source": [
        "def p_to_star(p):\n",
        "    return (\"****\" if p < 1e-4 else\n",
        "            \"***\"  if p < 1e-3 else\n",
        "            \"**\"   if p < 1e-2 else\n",
        "            \"*\"    if p < 0.05 else\n",
        "            \"ns\")\n",
        "\n",
        "groups = {t: df.loc[df[\"Treatment\"] == t, \"Area\"].values for t in df[\"Treatment\"].unique()}\n",
        "dmso = groups[\"DMSO\"]\n",
        "\n",
        "results = {}\n",
        "for t in [\"Anthracyclines\", \"Taxane\"]:\n",
        "    stat, p_raw = ttest_ind(groups[t], dmso, equal_var=False)\n",
        "    results[t] = {\"t\": stat, \"p_value\": float(p_raw), \"sig\": p_to_star(p_raw)}\n",
        "\n",
        "results"
      ]
    },
    {
      "cell_type": "markdown",
      "metadata": {},
      "source": [
        "## 5) Save quick summary to CSV\n",
        "We save the summary table under `results/demo/`."
      ]
    },
    {
      "cell_type": "code",
      "execution_count": null,
      "metadata": {},
      "outputs": [],
      "source": [
        "summary_df = (\n",
        "    pd.DataFrame(results).T\n",
        "    .reset_index()\n",
        "    .rename(columns={\"index\": \"Treatment\"})\n",
        ")\n",
        "summary_path = \"results/demo/welch_summary_demo.csv\"\n",
        "summary_df.to_csv(summary_path, index=False)\n",
        "summary_df"
      ]
    },
    {
      "cell_type": "markdown",
      "metadata": {},
      "source": [
        "### Done\n",
        "- Synthetic features written to: `results/demo/demo_spheroid_features_trat.xlsx`\n",
        "- Welch summary: `results/demo/welch_summary_demo.csv`\n",
        "- Example UMAP figure displayed above.\n",
        "\n",
        "You can adapt this notebook to load real feature tables produced by `src/1_feature_extraction.py` and continue the exact same analysis steps."
      ]
    }
  ],
  "metadata": {
    "kernelspec": {
      "display_name": "Python 3",
      "language": "python",
      "name": "python3"
    },
    "language_info": {
      "name": "python",
      "version": "3.10"
    }
  },
  "nbformat": 4,
  "nbformat_minor": 5
}